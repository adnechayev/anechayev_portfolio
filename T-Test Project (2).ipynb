{
 "cells": [
  {
   "cell_type": "markdown",
   "metadata": {},
   "source": [
    "# Linear Regression and T Test with Boston Housing Data"
   ]
  },
  {
   "cell_type": "markdown",
   "metadata": {},
   "source": [
    "The dataset used for the project comprises of housing data for suburbs in the city of Boston in the United States. The columns are as follows:\n",
    "\n",
    "**crim**: per capita crime rate by town.\n",
    "<br>\n",
    "**zn**: proportion of residential land zoned for lots over 25,000 sq.ft.\n",
    "<br>\n",
    "**indus**: proportion of non-retail business acres per town.\n",
    "<br>\n",
    "**chas**: Charles River dummy variable (= 1 if tract bounds river; 0 otherwise).\n",
    "<br>\n",
    "**nox**: nitrogen oxides concentration (parts per 10 million).\n",
    "<br>\n",
    "**rm**: average number of rooms per dwelling.\n",
    "<br>\n",
    "**age**: proportion of owner-occupied units built prior to 1940.\n",
    "<br>\n",
    "**dis**: weighted mean of distances to five Boston employment centres.\n",
    "<br>\n",
    "**rad**: index of accessibility to radial highways.\n",
    "<br>\n",
    "**tax**: full-value property-tax rate per 10000 dollars.\n",
    "<br>\n",
    "**ptratio**: pupil-teacher ratio by town.\n",
    "<br>\n",
    "**b**: 1000(Bk - 0.63)^2 where Bk is the proportion of ethnic African-Americans by town.\n",
    "<br>\n",
    "**lstat**: lower status of the population (percent).\n",
    "<br>\n",
    "**medv**: median value of owner-occupied homes in 1000 dollar range.\n",
    "\n",
    "In this project, we will be performing a linear regression on selected variables from this dataset (AGE and MEDV), as well as running a student t-test between the location of a tract in regards to the Charles River and whether or not that has any significant effect on the tract's median price."
   ]
  },
  {
   "cell_type": "markdown",
   "metadata": {},
   "source": [
    "### **Importing and Cleaning**"
   ]
  },
  {
   "cell_type": "code",
   "execution_count": 3,
   "metadata": {},
   "outputs": [],
   "source": [
    "import pandas as pd\n",
    "import matplotlib.pyplot as plt\n",
    "import numpy as np\n",
    "from sklearn.linear_model import LinearRegression\n",
    "import statsmodels.api as sm"
   ]
  },
  {
   "cell_type": "code",
   "execution_count": 4,
   "metadata": {},
   "outputs": [
    {
     "data": {
      "text/html": [
       "<div>\n",
       "<style scoped>\n",
       "    .dataframe tbody tr th:only-of-type {\n",
       "        vertical-align: middle;\n",
       "    }\n",
       "\n",
       "    .dataframe tbody tr th {\n",
       "        vertical-align: top;\n",
       "    }\n",
       "\n",
       "    .dataframe thead th {\n",
       "        text-align: right;\n",
       "    }\n",
       "</style>\n",
       "<table border=\"1\" class=\"dataframe\">\n",
       "  <thead>\n",
       "    <tr style=\"text-align: right;\">\n",
       "      <th></th>\n",
       "      <th>CRIM</th>\n",
       "      <th>ZN</th>\n",
       "      <th>INDUS</th>\n",
       "      <th>CHAS</th>\n",
       "      <th>NOX</th>\n",
       "      <th>RM</th>\n",
       "      <th>AGE</th>\n",
       "      <th>DIS</th>\n",
       "      <th>RAD</th>\n",
       "      <th>TAX</th>\n",
       "      <th>PTRATIO</th>\n",
       "      <th>B</th>\n",
       "      <th>LSTAT</th>\n",
       "      <th>MEDV</th>\n",
       "      <th>Column1</th>\n",
       "    </tr>\n",
       "  </thead>\n",
       "  <tbody>\n",
       "    <tr>\n",
       "      <th>0</th>\n",
       "      <td>0.00632</td>\n",
       "      <td>18.0</td>\n",
       "      <td>2.31</td>\n",
       "      <td>0</td>\n",
       "      <td>0.538</td>\n",
       "      <td>6.575</td>\n",
       "      <td>65.2</td>\n",
       "      <td>4.0900</td>\n",
       "      <td>1</td>\n",
       "      <td>296</td>\n",
       "      <td>15.3</td>\n",
       "      <td>396.90</td>\n",
       "      <td>4.98</td>\n",
       "      <td>24.0</td>\n",
       "      <td>NaN</td>\n",
       "    </tr>\n",
       "    <tr>\n",
       "      <th>1</th>\n",
       "      <td>0.02731</td>\n",
       "      <td>0.0</td>\n",
       "      <td>7.07</td>\n",
       "      <td>0</td>\n",
       "      <td>0.469</td>\n",
       "      <td>6.421</td>\n",
       "      <td>78.9</td>\n",
       "      <td>4.9671</td>\n",
       "      <td>2</td>\n",
       "      <td>242</td>\n",
       "      <td>17.8</td>\n",
       "      <td>396.90</td>\n",
       "      <td>9.14</td>\n",
       "      <td>21.6</td>\n",
       "      <td>NaN</td>\n",
       "    </tr>\n",
       "    <tr>\n",
       "      <th>2</th>\n",
       "      <td>0.02729</td>\n",
       "      <td>0.0</td>\n",
       "      <td>7.07</td>\n",
       "      <td>0</td>\n",
       "      <td>0.469</td>\n",
       "      <td>7.185</td>\n",
       "      <td>61.1</td>\n",
       "      <td>4.9671</td>\n",
       "      <td>2</td>\n",
       "      <td>242</td>\n",
       "      <td>17.8</td>\n",
       "      <td>392.83</td>\n",
       "      <td>4.03</td>\n",
       "      <td>34.7</td>\n",
       "      <td>NaN</td>\n",
       "    </tr>\n",
       "    <tr>\n",
       "      <th>3</th>\n",
       "      <td>0.03237</td>\n",
       "      <td>0.0</td>\n",
       "      <td>2.18</td>\n",
       "      <td>0</td>\n",
       "      <td>0.458</td>\n",
       "      <td>6.998</td>\n",
       "      <td>45.8</td>\n",
       "      <td>6.0622</td>\n",
       "      <td>3</td>\n",
       "      <td>222</td>\n",
       "      <td>18.7</td>\n",
       "      <td>394.63</td>\n",
       "      <td>2.94</td>\n",
       "      <td>33.4</td>\n",
       "      <td>NaN</td>\n",
       "    </tr>\n",
       "    <tr>\n",
       "      <th>4</th>\n",
       "      <td>0.06905</td>\n",
       "      <td>0.0</td>\n",
       "      <td>2.18</td>\n",
       "      <td>0</td>\n",
       "      <td>0.458</td>\n",
       "      <td>7.147</td>\n",
       "      <td>54.2</td>\n",
       "      <td>6.0622</td>\n",
       "      <td>3</td>\n",
       "      <td>222</td>\n",
       "      <td>18.7</td>\n",
       "      <td>396.90</td>\n",
       "      <td>5.33</td>\n",
       "      <td>36.2</td>\n",
       "      <td>NaN</td>\n",
       "    </tr>\n",
       "  </tbody>\n",
       "</table>\n",
       "</div>"
      ],
      "text/plain": [
       "      CRIM    ZN  INDUS  CHAS    NOX     RM   AGE     DIS  RAD  TAX  PTRATIO  \\\n",
       "0  0.00632  18.0   2.31     0  0.538  6.575  65.2  4.0900    1  296     15.3   \n",
       "1  0.02731   0.0   7.07     0  0.469  6.421  78.9  4.9671    2  242     17.8   \n",
       "2  0.02729   0.0   7.07     0  0.469  7.185  61.1  4.9671    2  242     17.8   \n",
       "3  0.03237   0.0   2.18     0  0.458  6.998  45.8  6.0622    3  222     18.7   \n",
       "4  0.06905   0.0   2.18     0  0.458  7.147  54.2  6.0622    3  222     18.7   \n",
       "\n",
       "        B   LSTAT  MEDV  Column1  \n",
       "0  396.90    4.98  24.0      NaN  \n",
       "1  396.90    9.14  21.6      NaN  \n",
       "2  392.83    4.03  34.7      NaN  \n",
       "3  394.63    2.94  33.4      NaN  \n",
       "4  396.90    5.33  36.2      NaN  "
      ]
     },
     "execution_count": 4,
     "metadata": {},
     "output_type": "execute_result"
    }
   ],
   "source": [
    "df = pd.read_csv('housing2.csv')\n",
    "df.head()"
   ]
  },
  {
   "cell_type": "code",
   "execution_count": 5,
   "metadata": {},
   "outputs": [],
   "source": [
    "# Dropping the extra column that contains no relevent information\n",
    "df.drop([\"Column1\"], axis = 1, inplace = True)"
   ]
  },
  {
   "cell_type": "code",
   "execution_count": 6,
   "metadata": {},
   "outputs": [
    {
     "name": "stdout",
     "output_type": "stream",
     "text": [
      "The average proportion of owner occupied units prior to 1940 is 68.57\n",
      "The standard deviation of the proportion of owner occupied units prior to 1940 is 28.15\n"
     ]
    }
   ],
   "source": [
    "# Finding the mean of the AGE column\n",
    "df_mean = df.loc[:, 'AGE'].mean()\n",
    "print('The average proportion of owner occupied units prior to 1940 is {:.02f}'.format(df_mean))\n",
    "\n",
    "# Finding the standard deviation of the AGE column\n",
    "df_std = df.loc[:, 'AGE'].std()\n",
    "print('The standard deviation of the proportion of owner occupied units prior to 1940 is {:.02f}'.format(df_std))"
   ]
  },
  {
   "cell_type": "code",
   "execution_count": 7,
   "metadata": {},
   "outputs": [
    {
     "data": {
      "image/png": "[encoded data removed]",
      "text/plain": [
       "<Figure size 432x288 with 1 Axes>"
      ]
     },
     "metadata": {
      "needs_background": "light"
     },
     "output_type": "display_data"
    }
   ],
   "source": [
    "# Plotting histogram of AGE column, showing us that most of the data points lie in the higher range of 80 to 100\n",
    "plt.hist(df['AGE'], bins=20)\n",
    "plt.show()"
   ]
  },
  {
   "cell_type": "code",
   "execution_count": 8,
   "metadata": {},
   "outputs": [
    {
     "name": "stdout",
     "output_type": "stream",
     "text": [
      "[[ 1.         -0.37695457]\n",
      " [-0.37695457  1.        ]]\n"
     ]
    }
   ],
   "source": [
    "# Finding sample correlation between AGE and MEDV\n",
    "df_coeff = np.corrcoef(df['AGE'], df['MEDV'])\n",
    "print(df_coeff)"
   ]
  },
  {
   "cell_type": "markdown",
   "metadata": {},
   "source": [
    "### Manually performing a Linear Regression"
   ]
  },
  {
   "cell_type": "markdown",
   "metadata": {},
   "source": [
    "#### Null Hypothesis: H$_{0}$ : AGE and MEDV are not correlated"
   ]
  },
  {
   "cell_type": "code",
   "execution_count": 9,
   "metadata": {},
   "outputs": [],
   "source": [
    "# Manually performing a regression of AGE against MEDV\n",
    "x = df['AGE']\n",
    "y = df['MEDV']\n",
    "def estimate_coef(x, y):\n",
    "    n = np.size(x)\n",
    "\n",
    "    m_x = np.mean(x)\n",
    "    m_y = np.mean(y)\n",
    "\n",
    "    SS_xy = np.sum(y*x) - n*m_y*m_x\n",
    "    SS_xx = np.sum(x*x) - n*m_x*m_x\n",
    "\n",
    "    b_1 = SS_xy / SS_xx\n",
    "    b_0 = m_y - b_1*m_x\n",
    "\n",
    "    return(b_0, b_1)"
   ]
  },
  {
   "cell_type": "code",
   "execution_count": 10,
   "metadata": {},
   "outputs": [],
   "source": [
    "# Visualizing the regression with line of best fit (y_pred)\n",
    "def plot_regression(x, y, b):\n",
    "    plt.scatter(x, y, color=\"m\", marker=\"o\", s=30)\n",
    "    y_pred = b[0] + b[1]*x\n",
    "    plt.plot(x, y_pred, color=\"g\")\n",
    "    plt.xlabel('x')\n",
    "    plt.ylabel('y')\n",
    "    plt.show()"
   ]
  },
  {
   "cell_type": "code",
   "execution_count": 11,
   "metadata": {},
   "outputs": [],
   "source": [
    "def main():\n",
    "\n",
    "    # estimating coefficients\n",
    "    b = estimate_coef(x, y)\n",
    "    print(\"Estimated coefficients:\\nb_0 = {}  \\\n",
    "          \\nb_1 = {}\".format(b[0], b[1]))\n",
    "\n",
    "    # plotting regression line\n",
    "    plot_regression(x, y, b)"
   ]
  },
  {
   "cell_type": "code",
   "execution_count": 12,
   "metadata": {},
   "outputs": [
    {
     "name": "stdout",
     "output_type": "stream",
     "text": [
      "Estimated coefficients:\n",
      "b_0 = 30.978677762618307            \n",
      "b_1 = -0.12316272123568321\n"
     ]
    },
    {
     "data": {
      "image/png": "[encoded data removed]",
      "text/plain": [
       "<Figure size 432x288 with 1 Axes>"
      ]
     },
     "metadata": {
      "needs_background": "light"
     },
     "output_type": "display_data"
    }
   ],
   "source": [
    "if __name__ == \"__main__\":\n",
    "    main()"
   ]
  },
  {
   "cell_type": "markdown",
   "metadata": {},
   "source": [
    "### Performing a Linear Regression using the sklearn model"
   ]
  },
  {
   "cell_type": "code",
   "execution_count": 18,
   "metadata": {},
   "outputs": [
    {
     "name": "stdout",
     "output_type": "stream",
     "text": [
      "Coeffecient of determination of prediction is 0.14\n",
      "Estimated coeffecient(s) for linear regression are  [[-0.12316272]]\n",
      "                        Results: Ordinary least squares\n",
      "===============================================================================\n",
      "Model:                  OLS              Adj. R-squared (uncentered): 0.644    \n",
      "Dependent Variable:     y                AIC:                         5272.1168\n",
      "Date:                   2023-07-19 16:04 BIC:                         5276.3433\n",
      "No. Observations:       506              Log-Likelihood:              -2635.1  \n",
      "Df Model:               1                F-statistic:                 915.1    \n",
      "Df Residuals:           505              Prob (F-statistic):          1.85e-115\n",
      "R-squared (uncentered): 0.644            Scale:                       1957.4   \n",
      "-------------------------------------------------------------------------------------\n",
      "           Coef.        Std.Err.          t          P>|t|        [0.025       0.975]\n",
      "-------------------------------------------------------------------------------------\n",
      "x1         2.4450         0.0808       30.2504       0.0000       2.2862       2.6038\n",
      "-------------------------------------------------------------------------------\n",
      "Omnibus:                  57.620            Durbin-Watson:               0.336 \n",
      "Prob(Omnibus):            0.000             Jarque-Bera (JB):            24.766\n",
      "Skew:                     -0.340            Prob(JB):                    0.000 \n",
      "Kurtosis:                 2.157             Condition No.:               1     \n",
      "===============================================================================\n",
      "\n"
     ]
    }
   ],
   "source": [
    "# Converting the dataframe columns into numpy arrays, as well as reshaping them into 2D arrays for the regression model\n",
    "a_n = (df['AGE'].to_numpy()).reshape(-1,1)\n",
    "b_n = df['MEDV'].to_numpy().reshape(-1,1)\n",
    "\n",
    "reg = LinearRegression().fit(a_n, b_n)\n",
    "\n",
    "r_score = reg.score(a_n, b_n)\n",
    "print(\"Coeffecient of determination of prediction is {:.02f}\".format(r_score))\n",
    "\n",
    "print(\"Estimated coeffecient(s) for linear regression are \", reg.coef_)\n",
    "\n",
    "# Determing the p-value for our regression\n",
    "est = sm.OLS(a_n,b_n)\n",
    "est2 = est.fit()\n",
    "p_values = est2.summary2()\n",
    "print(p_values)"
   ]
  },
  {
   "cell_type": "markdown",
   "metadata": {},
   "source": [
    "With a significantly small p-value, we can confidentely reject the null hypothesis in favor of the the alternative, being that AGE and MEDV are correlated."
   ]
  },
  {
   "cell_type": "markdown",
   "metadata": {},
   "source": [
    "## Performing a T-test on CHAS and MEDV variables"
   ]
  },
  {
   "cell_type": "markdown",
   "metadata": {},
   "source": [
    "### Null Hypothesis: H$_{0}$ : u$_{1}$ = u$_{2}$, where u$_{1}$ is median price of homes that do not border Charles River, and u$_{2}$ is median price of homes that do border the Charler River. \n",
    "\n",
    "If we are to accept the null hypothesis, we acknowledge that there is no price difference in the tracts that do and do not border the Charler River."
   ]
  },
  {
   "cell_type": "code",
   "execution_count": 56,
   "metadata": {},
   "outputs": [],
   "source": [
    "# Isolating the CHAS column from the rest of the dataset\n",
    "groups = df.groupby('CHAS')"
   ]
  },
  {
   "cell_type": "markdown",
   "metadata": {},
   "source": [
    "Now we split the CHAS column based on whether a tract borders the Charles River (1), or if it does not (0)."
   ]
  },
  {
   "cell_type": "code",
   "execution_count": 57,
   "metadata": {},
   "outputs": [],
   "source": [
    "a = groups.get_group(0)\n",
    "b = groups.get_group(1)"
   ]
  },
  {
   "cell_type": "code",
   "execution_count": 58,
   "metadata": {},
   "outputs": [],
   "source": [
    "# Importing necessary packages to perform a T-test\n",
    "import scipy as sp\n",
    "import scipy.stats as st"
   ]
  },
  {
   "cell_type": "markdown",
   "metadata": {},
   "source": [
    "Here we run a T-test on the MEDV values from both groups"
   ]
  },
  {
   "cell_type": "code",
   "execution_count": 67,
   "metadata": {},
   "outputs": [
    {
     "name": "stdout",
     "output_type": "stream",
     "text": [
      "Ttest_indResult(statistic=-3.996437466090509, pvalue=7.390623170519905e-05)\n"
     ]
    }
   ],
   "source": [
    "ttest = st.ttest_ind(a['MEDV'],b['MEDV'])\n",
    "print(ttest)"
   ]
  },
  {
   "cell_type": "markdown",
   "metadata": {},
   "source": [
    "**T-statistic**: -3.996\n",
    "<br>\n",
    "**P-value**: .0000739. \n",
    "\n",
    "A non-zero T-statistic indicates that we have a deviation from the null hypothesis. \n",
    "\n",
    "With a p-value of less than 0.05, we can confidently reject the null hypothesis in favor of the alternative hypothesis that H$_{0}$: u$_{1}$ != u$_{2}$"
   ]
  },
  {
   "cell_type": "code",
   "execution_count": 68,
   "metadata": {},
   "outputs": [
    {
     "data": {
      "text/plain": [
       "(25.065286381188983, 31.814713618811016)"
      ]
     },
     "execution_count": 68,
     "metadata": {},
     "output_type": "execute_result"
    }
   ],
   "source": [
    "st.t.interval(alpha=0.90, df=len(b['MEDV']), loc=np.mean(b['MEDV']), scale=st.sem(b['MEDV']))"
   ]
  },
  {
   "cell_type": "markdown",
   "metadata": {},
   "source": [
    "90% confidence interval for median price of tracts that border Charles River: (25.065, 31.815)"
   ]
  },
  {
   "cell_type": "code",
   "execution_count": 69,
   "metadata": {},
   "outputs": [],
   "source": [
    "from statsmodels.stats.power import TTestIndPower"
   ]
  },
  {
   "cell_type": "code",
   "execution_count": 73,
   "metadata": {},
   "outputs": [],
   "source": [
    "power_analysis = TTestIndPower()\n",
    "sample_size = power_analysis.solve_power(effect_size=0.6, nobs1=None, alpha=0.05, power=0.8)"
   ]
  },
  {
   "cell_type": "markdown",
   "metadata": {},
   "source": [
    "**Effect size**: Tells us how strong the difference between the groups is via their means.\n",
    "<br>\n",
    "**Alpha Value**: Type 1 error rate.\n",
    "<br>\n",
    "**Power Value**: Probability of avoiding a Type 2 error.\n",
    "<br>\n",
    "\n",
    "\n",
    "Given these parameters, we can calculate the appropriate sample size; which comes out to approximately 44.59"
   ]
  },
  {
   "cell_type": "code",
   "execution_count": 72,
   "metadata": {},
   "outputs": [
    {
     "name": "stdout",
     "output_type": "stream",
     "text": [
      "44.5857902590805\n"
     ]
    }
   ],
   "source": [
    "print(sample_size)"
   ]
  }
 ],
 "metadata": {
  "kernelspec": {
   "display_name": "Python 3",
   "language": "python",
   "name": "python3"
  },
  "language_info": {
   "codemirror_mode": {
    "name": "ipython",
    "version": 3
   },
   "file_extension": ".py",
   "mimetype": "text/x-python",
   "name": "python",
   "nbconvert_exporter": "python",
   "pygments_lexer": "ipython3",
   "version": "3.7.6"
  }
 },
 "nbformat": 4,
 "nbformat_minor": 4
}
